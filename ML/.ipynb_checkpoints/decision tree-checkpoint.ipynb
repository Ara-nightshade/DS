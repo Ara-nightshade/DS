{
 "cells": [
  {
   "cell_type": "code",
   "execution_count": 1,
   "id": "fd7efd77",
   "metadata": {},
   "outputs": [],
   "source": [
    "import numpy as np\n",
    "import pandas as pd\n",
    "import seaborn as sns\n",
    "import matplotlib.pyplot as plt\n",
    "from sklearn.model_selection import train_test_split\n",
    "from sklearn.preprocessing import LabelEncoder\n",
    "from sklearn.tree import DecisionTreeClassifier\n",
    "from sklearn.metrics import confusion_matrix, accuracy_score, roc_curve, auc"
   ]
  },
  {
   "cell_type": "code",
   "execution_count": 2,
   "id": "bf7a9f4d",
   "metadata": {},
   "outputs": [
    {
     "data": {
      "text/html": [
       "<div>\n",
       "<style scoped>\n",
       "    .dataframe tbody tr th:only-of-type {\n",
       "        vertical-align: middle;\n",
       "    }\n",
       "\n",
       "    .dataframe tbody tr th {\n",
       "        vertical-align: top;\n",
       "    }\n",
       "\n",
       "    .dataframe thead th {\n",
       "        text-align: right;\n",
       "    }\n",
       "</style>\n",
       "<table border=\"1\" class=\"dataframe\">\n",
       "  <thead>\n",
       "    <tr style=\"text-align: right;\">\n",
       "      <th></th>\n",
       "      <th>age</th>\n",
       "      <th>job</th>\n",
       "      <th>marital</th>\n",
       "      <th>education</th>\n",
       "      <th>default</th>\n",
       "      <th>balance</th>\n",
       "      <th>housing</th>\n",
       "      <th>loan</th>\n",
       "      <th>contact</th>\n",
       "      <th>day</th>\n",
       "      <th>month</th>\n",
       "      <th>duration</th>\n",
       "      <th>campaign</th>\n",
       "      <th>pdays</th>\n",
       "      <th>previous</th>\n",
       "      <th>poutcome</th>\n",
       "      <th>deposit</th>\n",
       "    </tr>\n",
       "  </thead>\n",
       "  <tbody>\n",
       "    <tr>\n",
       "      <th>0</th>\n",
       "      <td>59</td>\n",
       "      <td>admin.</td>\n",
       "      <td>married</td>\n",
       "      <td>secondary</td>\n",
       "      <td>no</td>\n",
       "      <td>2343</td>\n",
       "      <td>yes</td>\n",
       "      <td>no</td>\n",
       "      <td>unknown</td>\n",
       "      <td>5</td>\n",
       "      <td>may</td>\n",
       "      <td>1042</td>\n",
       "      <td>1</td>\n",
       "      <td>-1</td>\n",
       "      <td>0</td>\n",
       "      <td>unknown</td>\n",
       "      <td>yes</td>\n",
       "    </tr>\n",
       "    <tr>\n",
       "      <th>1</th>\n",
       "      <td>56</td>\n",
       "      <td>admin.</td>\n",
       "      <td>married</td>\n",
       "      <td>secondary</td>\n",
       "      <td>no</td>\n",
       "      <td>45</td>\n",
       "      <td>no</td>\n",
       "      <td>no</td>\n",
       "      <td>unknown</td>\n",
       "      <td>5</td>\n",
       "      <td>may</td>\n",
       "      <td>1467</td>\n",
       "      <td>1</td>\n",
       "      <td>-1</td>\n",
       "      <td>0</td>\n",
       "      <td>unknown</td>\n",
       "      <td>yes</td>\n",
       "    </tr>\n",
       "    <tr>\n",
       "      <th>2</th>\n",
       "      <td>41</td>\n",
       "      <td>technician</td>\n",
       "      <td>married</td>\n",
       "      <td>secondary</td>\n",
       "      <td>no</td>\n",
       "      <td>1270</td>\n",
       "      <td>yes</td>\n",
       "      <td>no</td>\n",
       "      <td>unknown</td>\n",
       "      <td>5</td>\n",
       "      <td>may</td>\n",
       "      <td>1389</td>\n",
       "      <td>1</td>\n",
       "      <td>-1</td>\n",
       "      <td>0</td>\n",
       "      <td>unknown</td>\n",
       "      <td>yes</td>\n",
       "    </tr>\n",
       "    <tr>\n",
       "      <th>3</th>\n",
       "      <td>55</td>\n",
       "      <td>services</td>\n",
       "      <td>married</td>\n",
       "      <td>secondary</td>\n",
       "      <td>no</td>\n",
       "      <td>2476</td>\n",
       "      <td>yes</td>\n",
       "      <td>no</td>\n",
       "      <td>unknown</td>\n",
       "      <td>5</td>\n",
       "      <td>may</td>\n",
       "      <td>579</td>\n",
       "      <td>1</td>\n",
       "      <td>-1</td>\n",
       "      <td>0</td>\n",
       "      <td>unknown</td>\n",
       "      <td>yes</td>\n",
       "    </tr>\n",
       "    <tr>\n",
       "      <th>4</th>\n",
       "      <td>54</td>\n",
       "      <td>admin.</td>\n",
       "      <td>married</td>\n",
       "      <td>tertiary</td>\n",
       "      <td>no</td>\n",
       "      <td>184</td>\n",
       "      <td>no</td>\n",
       "      <td>no</td>\n",
       "      <td>unknown</td>\n",
       "      <td>5</td>\n",
       "      <td>may</td>\n",
       "      <td>673</td>\n",
       "      <td>2</td>\n",
       "      <td>-1</td>\n",
       "      <td>0</td>\n",
       "      <td>unknown</td>\n",
       "      <td>yes</td>\n",
       "    </tr>\n",
       "  </tbody>\n",
       "</table>\n",
       "</div>"
      ],
      "text/plain": [
       "   age         job  marital  education default  balance housing loan  contact  \\\n",
       "0   59      admin.  married  secondary      no     2343     yes   no  unknown   \n",
       "1   56      admin.  married  secondary      no       45      no   no  unknown   \n",
       "2   41  technician  married  secondary      no     1270     yes   no  unknown   \n",
       "3   55    services  married  secondary      no     2476     yes   no  unknown   \n",
       "4   54      admin.  married   tertiary      no      184      no   no  unknown   \n",
       "\n",
       "   day month  duration  campaign  pdays  previous poutcome deposit  \n",
       "0    5   may      1042         1     -1         0  unknown     yes  \n",
       "1    5   may      1467         1     -1         0  unknown     yes  \n",
       "2    5   may      1389         1     -1         0  unknown     yes  \n",
       "3    5   may       579         1     -1         0  unknown     yes  \n",
       "4    5   may       673         2     -1         0  unknown     yes  "
      ]
     },
     "execution_count": 2,
     "metadata": {},
     "output_type": "execute_result"
    }
   ],
   "source": [
    "df=pd.read_csv(\"bank.csv\", na_values=[\"NA\"])\n",
    "df.head()"
   ]
  },
  {
   "cell_type": "code",
   "execution_count": 5,
   "id": "acf8251b",
   "metadata": {},
   "outputs": [
    {
     "data": {
      "text/plain": [
       "Index(['age', 'job', 'marital', 'education', 'default', 'balance', 'housing',\n",
       "       'loan', 'contact', 'day', 'month', 'duration', 'campaign', 'pdays',\n",
       "       'previous', 'poutcome', 'deposit'],\n",
       "      dtype='object')"
      ]
     },
     "execution_count": 5,
     "metadata": {},
     "output_type": "execute_result"
    }
   ],
   "source": [
    "df.columns"
   ]
  },
  {
   "cell_type": "code",
   "execution_count": 8,
   "id": "c2a47033",
   "metadata": {},
   "outputs": [
    {
     "name": "stdout",
     "output_type": "stream",
     "text": [
      "<class 'pandas.core.frame.DataFrame'>\n",
      "RangeIndex: 11162 entries, 0 to 11161\n",
      "Data columns (total 17 columns):\n",
      " #   Column     Non-Null Count  Dtype \n",
      "---  ------     --------------  ----- \n",
      " 0   age        11162 non-null  int64 \n",
      " 1   job        11162 non-null  object\n",
      " 2   marital    11162 non-null  object\n",
      " 3   education  11162 non-null  object\n",
      " 4   default    11162 non-null  object\n",
      " 5   balance    11162 non-null  int64 \n",
      " 6   housing    11162 non-null  object\n",
      " 7   loan       11162 non-null  object\n",
      " 8   contact    11162 non-null  object\n",
      " 9   day        11162 non-null  int64 \n",
      " 10  month      11162 non-null  object\n",
      " 11  duration   11162 non-null  int64 \n",
      " 12  campaign   11162 non-null  int64 \n",
      " 13  pdays      11162 non-null  int64 \n",
      " 14  previous   11162 non-null  int64 \n",
      " 15  poutcome   11162 non-null  object\n",
      " 16  deposit    11162 non-null  object\n",
      "dtypes: int64(7), object(10)\n",
      "memory usage: 1.4+ MB\n"
     ]
    }
   ],
   "source": [
    "df.info()"
   ]
  },
  {
   "cell_type": "markdown",
   "id": "5d63fb95",
   "metadata": {},
   "source": [
    "## Data Pre-Processing"
   ]
  },
  {
   "cell_type": "code",
   "execution_count": 9,
   "id": "0f4281bc",
   "metadata": {},
   "outputs": [],
   "source": [
    "t_df=df"
   ]
  },
  {
   "cell_type": "code",
   "execution_count": 14,
   "id": "076e70d9",
   "metadata": {},
   "outputs": [
    {
     "name": "stdout",
     "output_type": "stream",
     "text": [
      "LabelEncoder()\n",
      "[0 1 2 1 0]\n"
     ]
    },
    {
     "data": {
      "text/plain": [
       "'Fit: In the \"fit\" part of the operation, the label encoder examines the unique categories (labels) in the categorical feature you want to encode. \\nIt identifies all the unique categories in the data and assigns a unique numerical label to each category. \\nThe label encoder builds a mapping between the original categories and their corresponding numerical labels. This mapping is stored in the label encoder\\'s internal state.\\n\\nTransform: After the \"fit\" part is complete, you can use the \"transform\" part of the operation. \\nThis step takes your original categorical data and replaces each category with its corresponding numerical label, based on the mapping learned during the \"fit\" phase. \\nThe transformed data is now in a numerical format, suitable for use with machine learning algorithms that expect numerical input.\\n\\n'"
      ]
     },
     "execution_count": 14,
     "metadata": {},
     "output_type": "execute_result"
    }
   ],
   "source": [
    "\n",
    "# Sample categorical data\n",
    "data = [\"cat\", \"dog\", \"fish\", \"dog\", \"cat\"]\n",
    "\n",
    "# Initialize the label encoder\n",
    "label_encoder = LabelEncoder()\n",
    "\n",
    "# Fit and transform the data\n",
    "encoded_data = label_encoder.fit(data)\n",
    "encoded_data1=label_encoder.transform(data)\n",
    "\n",
    "print(encoded_data)\n",
    "print(encoded_data1)\n",
    "\n",
    "'''Fit: In the \"fit\" part of the operation, the label encoder examines the unique categories (labels) in the categorical feature you want to encode. \n",
    "It identifies all the unique categories in the data and assigns a unique numerical label to each category. \n",
    "The label encoder builds a mapping between the original categories and their corresponding numerical labels. This mapping is stored in the label encoder's internal state.\n",
    "\n",
    "Transform: After the \"fit\" part is complete, you can use the \"transform\" part of the operation. \n",
    "This step takes your original categorical data and replaces each category with its corresponding numerical label, based on the mapping learned during the \"fit\" phase. \n",
    "The transformed data is now in a numerical format, suitable for use with machine learning algorithms that expect numerical input.\n",
    "\n",
    "'''\n"
   ]
  },
  {
   "cell_type": "code",
   "execution_count": 13,
   "id": "ab6e02c6",
   "metadata": {},
   "outputs": [],
   "source": [
    "def preprocessor(df):\n",
    "    res_df=df.copy()\n",
    "    le=LabelEncoder()\n",
    "    \n",
    "    res_df['job']=le.fit_transform(res_df.job)\n",
    "    res_df['marital']=le.fit_transform(res_df.marital)\n",
    "    res_df[\"education\"]=le.fit_transform(res_df['education'])\n",
    "    res_df[\"default\"]=le.fit_transform(res_df['default'])\n",
    "    res_df[\"housing\"]=le.fit_transform(res_df['housing'])    \n",
    "    res_df[\"month\"]=le.fit_transform(res_df['month'])    \n",
    "    res_df[\"loan\"]=le.fit_transform(res_df['loan'])    \n",
    "    res_df[\"contact\"]=le.fit_transform(res_df['contact'])    \n",
    "    res_df[\"poutcome\"]=le.fit_transform(res_df['poutcome'])    \n",
    "    res_df[\"day_of_week\"]=le.fit_transform(res_df['day'])\n",
    "    res_df[\"deposit\"]=le.fit_transform(res_df['deposit'])\n",
    "    return res_df"
   ]
  },
  {
   "cell_type": "markdown",
   "id": "db624fc6",
   "metadata": {},
   "source": [
    "data manipulation libraries like NumPy and Pandas, the .values attribute is used to extract the values from a data structure, such as a Pandas DataFrame or Series, and return them as a NumPy array. \n",
    "\n",
    "Pandas DataFrame: When you apply the .values attribute to a Pandas DataFrame, it extracts the underlying data as a NumPy array. This can be useful if you want to work with the data as a NumPy array, which is often more efficient for numerical computations.\n",
    "\n",
    "Pandas Series: Similarly, when you apply the .values attribute to a Pandas Series, it extracts the data from the Series as a NumPy array.\n",
    "\n",
    "By converting data from a Pandas DataFrame or Series into a NumPy array, you gain access to the array's powerful numerical computation capabilities and can perform operations more efficiently. It's worth noting that, in recent versions of Pandas, the .to_numpy() method is recommended for explicitly converting data to NumPy arrays, but .values is still widely used and supported."
   ]
  },
  {
   "cell_type": "code",
   "execution_count": 16,
   "id": "04d0836c",
   "metadata": {},
   "outputs": [
    {
     "data": {
      "text/plain": [
       "array([[1, 4],\n",
       "       [2, 5],\n",
       "       [3, 6]], dtype=int64)"
      ]
     },
     "execution_count": 16,
     "metadata": {},
     "output_type": "execute_result"
    }
   ],
   "source": [
    "#example of .values in df\n",
    "import pandas as pd\n",
    "\n",
    "# Create a Pandas DataFrame\n",
    "data = pd.DataFrame({'A': [1, 2, 3], 'B': [4, 5, 6]})\n",
    "\n",
    "# Extract the values as a NumPy array\n",
    "values_array = data.values\n",
    "values_array"
   ]
  },
  {
   "cell_type": "code",
   "execution_count": 18,
   "id": "a039066c",
   "metadata": {},
   "outputs": [
    {
     "data": {
      "text/plain": [
       "array([1, 2, 3, 4, 5], dtype=int64)"
      ]
     },
     "execution_count": 18,
     "metadata": {},
     "output_type": "execute_result"
    }
   ],
   "source": [
    "#example of .values in series\n",
    "\n",
    "import pandas as pd\n",
    "\n",
    "# Create a Pandas Series\n",
    "series = pd.Series([1, 2, 3, 4, 5])\n",
    "\n",
    "# Extract the values as a NumPy array\n",
    "values_array = series.values\n",
    "values_array"
   ]
  },
  {
   "cell_type": "code",
   "execution_count": 28,
   "id": "41ce49f4",
   "metadata": {},
   "outputs": [
    {
     "data": {
      "text/html": [
       "<div>\n",
       "<style scoped>\n",
       "    .dataframe tbody tr th:only-of-type {\n",
       "        vertical-align: middle;\n",
       "    }\n",
       "\n",
       "    .dataframe tbody tr th {\n",
       "        vertical-align: top;\n",
       "    }\n",
       "\n",
       "    .dataframe thead th {\n",
       "        text-align: right;\n",
       "    }\n",
       "</style>\n",
       "<table border=\"1\" class=\"dataframe\">\n",
       "  <thead>\n",
       "    <tr style=\"text-align: right;\">\n",
       "      <th></th>\n",
       "      <th>age</th>\n",
       "      <th>job</th>\n",
       "      <th>marital</th>\n",
       "      <th>education</th>\n",
       "      <th>default</th>\n",
       "      <th>balance</th>\n",
       "      <th>housing</th>\n",
       "      <th>loan</th>\n",
       "      <th>contact</th>\n",
       "      <th>day</th>\n",
       "      <th>month</th>\n",
       "      <th>duration</th>\n",
       "      <th>campaign</th>\n",
       "      <th>pdays</th>\n",
       "      <th>previous</th>\n",
       "      <th>poutcome</th>\n",
       "      <th>deposit</th>\n",
       "      <th>day_of_week</th>\n",
       "    </tr>\n",
       "  </thead>\n",
       "  <tbody>\n",
       "    <tr>\n",
       "      <th>0</th>\n",
       "      <td>59</td>\n",
       "      <td>0</td>\n",
       "      <td>1</td>\n",
       "      <td>1</td>\n",
       "      <td>0</td>\n",
       "      <td>2343</td>\n",
       "      <td>1</td>\n",
       "      <td>0</td>\n",
       "      <td>2</td>\n",
       "      <td>5</td>\n",
       "      <td>8</td>\n",
       "      <td>1042</td>\n",
       "      <td>1</td>\n",
       "      <td>-1</td>\n",
       "      <td>0</td>\n",
       "      <td>3</td>\n",
       "      <td>1</td>\n",
       "      <td>4</td>\n",
       "    </tr>\n",
       "    <tr>\n",
       "      <th>1</th>\n",
       "      <td>56</td>\n",
       "      <td>0</td>\n",
       "      <td>1</td>\n",
       "      <td>1</td>\n",
       "      <td>0</td>\n",
       "      <td>45</td>\n",
       "      <td>0</td>\n",
       "      <td>0</td>\n",
       "      <td>2</td>\n",
       "      <td>5</td>\n",
       "      <td>8</td>\n",
       "      <td>1467</td>\n",
       "      <td>1</td>\n",
       "      <td>-1</td>\n",
       "      <td>0</td>\n",
       "      <td>3</td>\n",
       "      <td>1</td>\n",
       "      <td>4</td>\n",
       "    </tr>\n",
       "    <tr>\n",
       "      <th>2</th>\n",
       "      <td>41</td>\n",
       "      <td>9</td>\n",
       "      <td>1</td>\n",
       "      <td>1</td>\n",
       "      <td>0</td>\n",
       "      <td>1270</td>\n",
       "      <td>1</td>\n",
       "      <td>0</td>\n",
       "      <td>2</td>\n",
       "      <td>5</td>\n",
       "      <td>8</td>\n",
       "      <td>1389</td>\n",
       "      <td>1</td>\n",
       "      <td>-1</td>\n",
       "      <td>0</td>\n",
       "      <td>3</td>\n",
       "      <td>1</td>\n",
       "      <td>4</td>\n",
       "    </tr>\n",
       "    <tr>\n",
       "      <th>3</th>\n",
       "      <td>55</td>\n",
       "      <td>7</td>\n",
       "      <td>1</td>\n",
       "      <td>1</td>\n",
       "      <td>0</td>\n",
       "      <td>2476</td>\n",
       "      <td>1</td>\n",
       "      <td>0</td>\n",
       "      <td>2</td>\n",
       "      <td>5</td>\n",
       "      <td>8</td>\n",
       "      <td>579</td>\n",
       "      <td>1</td>\n",
       "      <td>-1</td>\n",
       "      <td>0</td>\n",
       "      <td>3</td>\n",
       "      <td>1</td>\n",
       "      <td>4</td>\n",
       "    </tr>\n",
       "    <tr>\n",
       "      <th>4</th>\n",
       "      <td>54</td>\n",
       "      <td>0</td>\n",
       "      <td>1</td>\n",
       "      <td>2</td>\n",
       "      <td>0</td>\n",
       "      <td>184</td>\n",
       "      <td>0</td>\n",
       "      <td>0</td>\n",
       "      <td>2</td>\n",
       "      <td>5</td>\n",
       "      <td>8</td>\n",
       "      <td>673</td>\n",
       "      <td>2</td>\n",
       "      <td>-1</td>\n",
       "      <td>0</td>\n",
       "      <td>3</td>\n",
       "      <td>1</td>\n",
       "      <td>4</td>\n",
       "    </tr>\n",
       "  </tbody>\n",
       "</table>\n",
       "</div>"
      ],
      "text/plain": [
       "   age  job  marital  education  default  balance  housing  loan  contact  \\\n",
       "0   59    0        1          1        0     2343        1     0        2   \n",
       "1   56    0        1          1        0       45        0     0        2   \n",
       "2   41    9        1          1        0     1270        1     0        2   \n",
       "3   55    7        1          1        0     2476        1     0        2   \n",
       "4   54    0        1          2        0      184        0     0        2   \n",
       "\n",
       "   day  month  duration  campaign  pdays  previous  poutcome  deposit  \\\n",
       "0    5      8      1042         1     -1         0         3        1   \n",
       "1    5      8      1467         1     -1         0         3        1   \n",
       "2    5      8      1389         1     -1         0         3        1   \n",
       "3    5      8       579         1     -1         0         3        1   \n",
       "4    5      8       673         2     -1         0         3        1   \n",
       "\n",
       "   day_of_week  \n",
       "0            4  \n",
       "1            4  \n",
       "2            4  \n",
       "3            4  \n",
       "4            4  "
      ]
     },
     "execution_count": 28,
     "metadata": {},
     "output_type": "execute_result"
    }
   ],
   "source": [
    "t_df.head()\n",
    "\n",
    "encoded_df.head()"
   ]
  },
  {
   "cell_type": "code",
   "execution_count": 27,
   "id": "5f11fc95",
   "metadata": {},
   "outputs": [],
   "source": [
    "#encoding\n",
    "encoded_df=preprocessor(t_df)\n",
    "\n",
    "x=encoded_df.drop(['deposit'],axis=1).values#independent variable\n",
    "y= encoded_df['deposit'].values#dependent variable"
   ]
  },
  {
   "cell_type": "markdown",
   "id": "3a1f6bbb",
   "metadata": {},
   "source": [
    "## split the data into Train-Test"
   ]
  },
  {
   "cell_type": "code",
   "execution_count": 29,
   "id": "bbe71478",
   "metadata": {},
   "outputs": [],
   "source": [
    "xtrain,xtest,ytrain,ytest=train_test_split(x,y,test_size=.2)"
   ]
  },
  {
   "cell_type": "markdown",
   "id": "ba835914",
   "metadata": {},
   "source": [
    "## Build the decision tree model"
   ]
  },
  {
   "cell_type": "code",
   "execution_count": 30,
   "id": "67dc52ca",
   "metadata": {},
   "outputs": [
    {
     "name": "stdout",
     "output_type": "stream",
     "text": [
      "Training score:  0.7084779930563333\n",
      "Testing score:  0.7223466188983431\n"
     ]
    }
   ],
   "source": [
    "#decision tree with depth 2\n",
    "model_dt_2=DecisionTreeClassifier(random_state=1,max_depth=2)\n",
    "model_dt_2.fit(xtrain,ytrain)\n",
    "model_dt_2_tscore=model_dt_2.score(xtrain,ytrain)#returns accuracy\n",
    "print(\"Training score: \",model_dt_2_tscore)\n",
    "model_dt_2_pscore=model_dt_2.score(xtest,ytest)\n",
    "print(\"Testing score: \",model_dt_2_pscore)"
   ]
  },
  {
   "cell_type": "code",
   "execution_count": 32,
   "id": "fe6251c7",
   "metadata": {},
   "outputs": [
    {
     "data": {
      "text/plain": [
       "array([1, 1, 0, ..., 1, 1, 0])"
      ]
     },
     "execution_count": 32,
     "metadata": {},
     "output_type": "execute_result"
    }
   ],
   "source": [
    "y_pred=model_dt_2.predict(xtest)\n",
    "y_pred"
   ]
  },
  {
   "cell_type": "code",
   "execution_count": 34,
   "id": "02c199bf",
   "metadata": {},
   "outputs": [
    {
     "name": "stdout",
     "output_type": "stream",
     "text": [
      "Training score  0.7906820472617314\n",
      "Testing score  0.8042991491267353\n"
     ]
    }
   ],
   "source": [
    "#decision tree with depth 4\n",
    "model_dt_4=DecisionTreeClassifier(random_state=1,max_depth=4)\n",
    "model_dt_4.fit(xtrain,ytrain)\n",
    "model_dt_4_tscore=model_dt_4.score(xtrain,ytrain)\n",
    "model_dt_4_pscore=model_dt_4.score(xtest,ytest)\n",
    "print(\"Training score \",model_dt_4_tscore)\n",
    "print(\"Testing score \",model_dt_4_pscore)"
   ]
  },
  {
   "cell_type": "code",
   "execution_count": 75,
   "id": "90552afd",
   "metadata": {},
   "outputs": [
    {
     "name": "stdout",
     "output_type": "stream",
     "text": [
      "train   0.833351999104043\n",
      "test   0.8298253470667264\n"
     ]
    }
   ],
   "source": [
    "#decision tree\n",
    "model_c=DecisionTreeClassifier(random_state=1,max_depth=8,min_samples_split=100,min_samples_leaf=10,criterion=\"gini\")\n",
    "model_c.fit(xtrain,ytrain)\n",
    "print(\"train  \",model_c.score(xtrain,ytrain))\n",
    "print(\"test  \",model_c.score(xtest,ytest))\n",
    "y_predict=model_c.predict(xtest)"
   ]
  },
  {
   "cell_type": "code",
   "execution_count": 88,
   "id": "2ecc9cc0",
   "metadata": {},
   "outputs": [
    {
     "name": "stdout",
     "output_type": "stream",
     "text": [
      "train  0.8558629185799081\n",
      "test  0.8293775190326914\n"
     ]
    }
   ],
   "source": [
    "modele=DecisionTreeClassifier(random_state=1,max_depth=8,criterion=\"entropy\")\n",
    "modele.fit(xtrain,ytrain)\n",
    "print(\"train \",modele.score(xtrain,ytrain))\n",
    "print(\"test \",modele.score(xtest,ytest))\n",
    "y_p=modele.predict(xtest)"
   ]
  },
  {
   "cell_type": "markdown",
   "id": "2ec2628d",
   "metadata": {},
   "source": [
    "## Performance metrics"
   ]
  },
  {
   "cell_type": "code",
   "execution_count": 79,
   "id": "5d5ff601",
   "metadata": {},
   "outputs": [],
   "source": [
    "fpr,tpr,_=roc_curve(ytest,y_predict)\n",
    "roc_auc=auc(fpr,tpr)\n",
    "\n",
    "'''\n",
    "roc_curve(\n",
    "    y_true,\n",
    "    y_score,\n",
    "    *,\n",
    "    pos_label=None,\n",
    "    sample_weight=None,\n",
    "    drop_intermediate=True,\n",
    ")\n",
    "Returns\n",
    "-------\n",
    "fpr : ndarray of shape (>2,)\n",
    "    Increasing false positive rates such that element i is the false\n",
    "    positive rate of predictions with score >= `thresholds[i]`.\n",
    "\n",
    "tpr : ndarray of shape (>2,)\n",
    "    Increasing true positive rates such that element `i` is the true\n",
    "    positive rate of predictions with score >= `thresholds[i]`.\n",
    "\n",
    "thresholds : ndarray of shape (n_thresholds,)\n",
    "    Decreasing thresholds on the decision function used to compute\n",
    "    fpr and tpr. `thresholds[0]` represents no instances being predicted\n",
    "    and is arbitrarily set to `np.inf`.\n",
    "    \n",
    "    \n",
    "    \n",
    " auc(x, y)    \n",
    "x : array-like of shape (n,)\n",
    "    X coordinates. These must be either monotonic increasing or monotonic\n",
    "    decreasing.\n",
    "y : array-like of shape (n,)\n",
    "    Y coordinates.\n",
    "    \n",
    "    \n",
    "Returns\n",
    "-------\n",
    "auc : float\n",
    "    Area Under the Curve.\n",
    "\n",
    "\n",
    "'''"
   ]
  },
  {
   "cell_type": "code",
   "execution_count": 82,
   "id": "9c191c00",
   "metadata": {},
   "outputs": [],
   "source": [
    "y_actual=None\n",
    "for i in range(len(y_predict)):\n",
    "    if(y_predict[i]==1):\n",
    "        y_actual=np.vstack((y_actual,ytest[i]))"
   ]
  },
  {
   "cell_type": "code",
   "execution_count": 83,
   "id": "e61aa448",
   "metadata": {},
   "outputs": [
    {
     "name": "stdout",
     "output_type": "stream",
     "text": [
      "true yes/ predicted yes: \n",
      "0.796875\n"
     ]
    }
   ],
   "source": [
    "#recall\n",
    "y_actual=y_actual.flatten()\n",
    "count=0\n",
    "for result in y_actual:\n",
    "    if(result==1):\n",
    "        count+=1\n",
    "        \n",
    "print(\"true yes/ predicted yes: \")\n",
    "print(count/float(len(y_actual)))"
   ]
  },
  {
   "cell_type": "code",
   "execution_count": 84,
   "id": "06868262",
   "metadata": {},
   "outputs": [
    {
     "data": {
      "text/plain": [
       "array([None, 1, 1, ..., 1, 1, 1], dtype=object)"
      ]
     },
     "execution_count": 84,
     "metadata": {},
     "output_type": "execute_result"
    }
   ],
   "source": [
    "y_actual"
   ]
  },
  {
   "cell_type": "markdown",
   "id": "825bc2f0",
   "metadata": {},
   "source": [
    "## Area under the curve"
   ]
  },
  {
   "cell_type": "code",
   "execution_count": 87,
   "id": "4dfd1c5c",
   "metadata": {},
   "outputs": [
    {
     "data": {
      "image/png": "[encoded data removed]",
      "text/plain": [
       "<Figure size 640x480 with 1 Axes>"
      ]
     },
     "metadata": {},
     "output_type": "display_data"
    }
   ],
   "source": [
    "plt.figure(1)\n",
    "lw=2#line width\n",
    "plt.plot(fpr,tpr,color='blue',lw=2,label='Decision Tree(AUC = %0.2f)' % roc_auc)\n",
    "plt.plot([0,1],[0,1],color=\"red\",lw=lw,linestyle='--')\n",
    "\n",
    "plt.xlim([0.0,1.0])\n",
    "plt.ylim([0.0,1.05])\n",
    "plt.xlabel('False Positive Rate')\n",
    "plt.ylabel('True Positive Rate')\n",
    "plt.title('Area Under Curve')\n",
    "plt.legend(loc='lower right')\n",
    "plt.show()"
   ]
  },
  {
   "cell_type": "code",
   "execution_count": 90,
   "id": "a0283e96",
   "metadata": {},
   "outputs": [],
   "source": [
    "# y_actual=None\n",
    "for i in range(len(y_p)):\n",
    "    if(y_p[i]==1):\n",
    "        y_actual=np.vstack((y_actual,ytest[i]))"
   ]
  },
  {
   "cell_type": "code",
   "execution_count": 91,
   "id": "bd27cc0a",
   "metadata": {},
   "outputs": [
    {
     "name": "stdout",
     "output_type": "stream",
     "text": [
      "true yes/ predicted yes: \n",
      "0.8162887552059231\n"
     ]
    }
   ],
   "source": [
    "#recall\n",
    "y_actual=y_actual.flatten()\n",
    "count=0\n",
    "for result in y_actual:\n",
    "    if(result==1):\n",
    "        count+=1\n",
    "        \n",
    "print(\"true yes/ predicted yes: \")\n",
    "print(count/float(len(y_actual)))"
   ]
  },
  {
   "cell_type": "code",
   "execution_count": 93,
   "id": "c45bfddd",
   "metadata": {},
   "outputs": [
    {
     "data": {
      "text/plain": [
       "<matplotlib.legend.Legend at 0x1b3c53e2710>"
      ]
     },
     "execution_count": 93,
     "metadata": {},
     "output_type": "execute_result"
    },
    {
     "data": {
      "image/png": "[encoded data removed]",
      "text/plain": [
       "<Figure size 640x480 with 1 Axes>"
      ]
     },
     "metadata": {},
     "output_type": "display_data"
    }
   ],
   "source": [
    "plt.figure(1)\n",
    "plt.plot(fpr,tpr,lw=3,label=\"Decision Tree= %.2f\"% roc_auc)\n",
    "plt.plot([0,1],[0,1],linestyle=\"--\",color=\"green\")\n",
    "plt.ylim([0,1.0])\n",
    "plt.xlim([0,1.0])\n",
    "plt.xlabel(\"FPR\")\n",
    "plt.ylabel('TPR')\n",
    "plt.title(\"AUC\")\n",
    "plt.legend(loc=\"upper right\")"
   ]
  },
  {
   "cell_type": "markdown",
   "id": "cae4d2df",
   "metadata": {},
   "source": [
    "## Confusion matrix"
   ]
  },
  {
   "cell_type": "code",
   "execution_count": 98,
   "id": "2a9c5b9e",
   "metadata": {},
   "outputs": [
    {
     "name": "stdout",
     "output_type": "stream",
     "text": [
      "[[935 233]\n",
      " [147 918]]\n"
     ]
    }
   ],
   "source": [
    "print(confusion_matrix(ytest,y_predict))"
   ]
  },
  {
   "cell_type": "code",
   "execution_count": 99,
   "id": "85753847",
   "metadata": {},
   "outputs": [
    {
     "data": {
      "text/plain": [
       "0.8298253470667264"
      ]
     },
     "execution_count": 99,
     "metadata": {},
     "output_type": "execute_result"
    }
   ],
   "source": [
    "accuracy_score(ytest,y_predict)"
   ]
  },
  {
   "cell_type": "code",
   "execution_count": 102,
   "id": "b2384517",
   "metadata": {},
   "outputs": [],
   "source": [
    "import itertools\n",
    "from sklearn.metrics import confusion_matrix\n",
    "def plot_confusion(model,normalize=False):\n",
    "    cm=confusion_matrix(ytest,model,labels=[0,1])\n",
    "    classes=[\"success\",\"default\"]\n",
    "    cmap=plt.cm.Blues\n",
    "    title='Confusion Matrix'\n",
    "    if normalize:\n",
    "        cm=cm.astype('float')/cm.sum(axis=1)[:,np.newaxis]\n",
    "        cm=np.around(cm,decimals=3)\n",
    "    plt.imshow(cm,interpolation='nearest',cmap=cmap)\n",
    "    plt.title(title)\n",
    "    plt.colorbar()\n",
    "    tick_marks=np.arange(len(classes))\n",
    "    plt.xticks(tick_marks,classes,rotation=45)\n",
    "    plt.yticks(tick_marks,classes)\n",
    "    thresh=cm.max()/2.\n",
    "    for i,j in itertools.product(range(cm.shape[0]),range(cm.shape[1])):\n",
    "        plt.text(j,i,cm[i,j], horizontalalignment='center',color='white' if cm[i,j]>thresh else \"black\")\n",
    "    plt.tight_layout()\n",
    "    plt.ylabel('True label')\n",
    "    plt.xlabel('predicted label')"
   ]
  },
  {
   "cell_type": "code",
   "execution_count": 103,
   "id": "1910f509",
   "metadata": {},
   "outputs": [
    {
     "data": {
      "image/png": "[encoded data removed]",
      "text/plain": [
       "<Figure size 600x600 with 2 Axes>"
      ]
     },
     "metadata": {},
     "output_type": "display_data"
    }
   ],
   "source": [
    "plt.figure(figsize=(6,6))\n",
    "plot_confusion(y_predict,normalize=False)\n",
    "plt.show()"
   ]
  },
  {
   "cell_type": "code",
   "execution_count": null,
   "id": "61361600",
   "metadata": {},
   "outputs": [],
   "source": []
  }
 ],
 "metadata": {
  "kernelspec": {
   "display_name": "Python 3 (ipykernel)",
   "language": "python",
   "name": "python3"
  },
  "language_info": {
   "codemirror_mode": {
    "name": "ipython",
    "version": 3
   },
   "file_extension": ".py",
   "mimetype": "text/x-python",
   "name": "python",
   "nbconvert_exporter": "python",
   "pygments_lexer": "ipython3",
   "version": "3.11.5"
  }
 },
 "nbformat": 4,
 "nbformat_minor": 5
}
