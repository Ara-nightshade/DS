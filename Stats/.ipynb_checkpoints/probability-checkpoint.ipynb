{
 "cells": [
  {
   "cell_type": "code",
   "execution_count": 1,
   "id": "c768463b",
   "metadata": {},
   "outputs": [],
   "source": [
    "#Probability calculation"
   ]
  },
  {
   "cell_type": "code",
   "execution_count": 3,
   "id": "8f6b5e16",
   "metadata": {},
   "outputs": [
    {
     "ename": "SyntaxError",
     "evalue": "unterminated string literal (detected at line 19) (922890836.py, line 19)",
     "output_type": "error",
     "traceback": [
      "\u001b[1;36m  Cell \u001b[1;32mIn[3], line 19\u001b[1;36m\u001b[0m\n\u001b[1;33m    print(f\"the probability of rolling the dices with even sum or greater than 7 is {np.round(roll_the_dice(times)\u001b[0m\n\u001b[1;37m          ^\u001b[0m\n\u001b[1;31mSyntaxError\u001b[0m\u001b[1;31m:\u001b[0m unterminated string literal (detected at line 19)\n"
     ]
    }
   ],
   "source": [
    "import numpy as np\n",
    "import random\n",
    "\n",
    "#function for rolling dice\n",
    "def roll_the_dice(times):\n",
    "    count=0\n",
    "    for i in range(times):\n",
    "        dice1=random.randint(1,6)\n",
    "        dice2=random.randint(1,6)\n",
    "        \n",
    "        summ=dice1+dice2\n",
    "        \n",
    "        if summ>7 or ((summ%2)==0):\n",
    "            count+=1\n",
    "    return count/times\n",
    "\n",
    "\n",
    "times=int(input(\"enter the number of times the dice must be rolled \"))\n",
    "result=np.round(roll_the_dice(times),2)\n",
    "print(f\"the probability of rolling the dices with even sum or greater than 7 is {result} \")       "
   ]
  },
  {
   "cell_type": "code",
   "execution_count": null,
   "id": "bc9d8170",
   "metadata": {},
   "outputs": [],
   "source": []
  }
 ],
 "metadata": {
  "kernelspec": {
   "display_name": "Python 3 (ipykernel)",
   "language": "python",
   "name": "python3"
  },
  "language_info": {
   "codemirror_mode": {
    "name": "ipython",
    "version": 3
   },
   "file_extension": ".py",
   "mimetype": "text/x-python",
   "name": "python",
   "nbconvert_exporter": "python",
   "pygments_lexer": "ipython3",
   "version": "3.11.5"
  }
 },
 "nbformat": 4,
 "nbformat_minor": 5
}
